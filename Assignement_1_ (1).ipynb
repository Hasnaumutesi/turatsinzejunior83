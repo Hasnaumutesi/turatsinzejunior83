{
  "nbformat": 4,
  "nbformat_minor": 0,
  "metadata": {
    "colab": {
      "provenance": []
    },
    "kernelspec": {
      "name": "python3",
      "display_name": "Python 3"
    },
    "language_info": {
      "name": "python"
    }
  },
  "cells": [
    {
      "cell_type": "code",
      "execution_count": null,
      "metadata": {
        "id": "T1DiEupVF6di"
      },
      "outputs": [],
      "source": []
    },
    {
      "cell_type": "markdown",
      "source": [],
      "metadata": {
        "id": "VjnijTkmF_5b"
      }
    },
    {
      "cell_type": "code",
      "source": [
        "from cryptography.fernet import Fernet\n",
        "key = Fernet.generate_key()\n",
        "cipher_suite = Fernet(key)\n",
        "message = b\"Names : Umutesi Hasna\"\n",
        "encrypted_message=cipher_suite.encrypt(message)\n",
        "print(\"ENCRYPTED MESSAGE:\" ,encrypted_message)\n",
        "decrypted_message=cipher_suite.decrypt(encrypted_message)\n",
        "print(\"Decrypted message:\",decrypted_message.decode())"
      ],
      "metadata": {
        "colab": {
          "base_uri": "https://localhost:8080/"
        },
        "id": "hciN6A4tGA5e",
        "outputId": "f8c74f07-1579-41d0-fb9e-eaca3127587b"
      },
      "execution_count": 1,
      "outputs": [
        {
          "output_type": "stream",
          "name": "stdout",
          "text": [
            "ENCRYPTED MESSAGE: b'gAAAAABnthKYTr0qj4WLs87cy7TV1NUsnupd0dE-NT_z31nYKXTstYDdA7Pb63UlUdzebvRZ_5bY2VdvhnDd8lJU29V0gPXz3eTz3KBrAkw5TuPtcws9tBE='\n",
            "Decrypted message: Names : Umutesi Hasna\n"
          ]
        }
      ]
    }
  ]
}